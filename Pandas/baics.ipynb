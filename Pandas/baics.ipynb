{
 "cells": [
  {
   "cell_type": "markdown",
   "metadata": {},
   "source": [
    "# **What is Pandas and Why to use it?**\n",
    "Pandas is a powerful Python library used for data manipulation and analysis. It provides easy-to-use data structures like Series and DataFrames, which help in handling tabular data (like spreadsheets or SQL tables). If you're working with structured data—whether it's from a CSV file, an Excel sheet, or a database—Pandas makes it easy to clean, explore, and process your data efficiently."
   ]
  },
  {
   "cell_type": "code",
   "execution_count": null,
   "metadata": {},
   "outputs": [],
   "source": [
    "import pandas as pd\n",
    "import numpy as np"
   ]
  },
  {
   "cell_type": "markdown",
   "metadata": {},
   "source": [
    "#### **Series**\n",
    "A one-dimensional labeled array capable of holding any data type (integers, strings, floating point numbers, Python objects, etc.)."
   ]
  },
  {
   "cell_type": "code",
   "execution_count": null,
   "metadata": {},
   "outputs": [],
   "source": [
    "data1 = [5,4]\n",
    "index=['a', 'b']\n",
    "s = pd.Series(data1) # the length of data and index should be same, if you don’t provide an index, pandas assigns default integer indices (0, 1, 2, ...)\n",
    "data2 = {'a': 1, 'b': 2} # a and b will be taken as index\n",
    "s = pd.Series(data2, index=['b', 'c', 'd', 'a']) # if u still specify index, the values in data2 corresponding to the labels in the index will be pulled out\n",
    "print(s.shape) # (length)\n",
    "print(s.head(2)) # return the given no of rows from the top\n",
    "print(s.tail(2)) # returns the given no of rows from bottom\n",
    "print(s.info()) # Summary of the DataFrame (data types, missing values, etc.)\n",
    "print(s.describe()) # Statistical summary of numeric columns"
   ]
  },
  {
   "cell_type": "markdown",
   "metadata": {},
   "source": [
    "#### **DataFrames**\n",
    "DataFrame is a 2-dimensional labeled data structure with columns of different types. You can think of it like a spreadsheet or SQL table, or a dict of Series objects. It is generally the most commonly used pandas object."
   ]
  },
  {
   "cell_type": "code",
   "execution_count": null,
   "metadata": {},
   "outputs": [],
   "source": [
    "df = pd.DataFrame([[1, 2, 3], [4, 5, 6, 10], [7, 9]],  \n",
    "                  columns=['a', 'b', 'c', 'z'],  \n",
    "                  index=['d', 'e', 'f'])  \n",
    "df.head(1) # return the given no of rows from the top\n",
    "df.tail(2) # return the given no of rows from the bottom\n",
    "print(df.shape) # (Rows, Columns)  \n",
    "print(df.size) # Total number of elements  \n",
    "print(df.info()) # Summary of the DataFrame (data types, missing values, etc.)\n",
    "print(df.describe()) # Statistical summary of numeric columns  "
   ]
  },
  {
   "cell_type": "markdown",
   "metadata": {},
   "source": [
    "#### **Handling Missing Values (NaN) in Pandas**\n",
    "Pandas provides several ways to deal with missing values (NaN)."
   ]
  },
  {
   "cell_type": "code",
   "execution_count": null,
   "metadata": {},
   "outputs": [],
   "source": [
    "# Replacing Missing Values with a Specific Value (fillna)\n",
    "df_filled = df.fillna({'z': 5}) # replaces NaN values only in the column 'z' with 5.\n",
    "\n",
    "# Filling Missing Values Using Forward Fill (ffill)\n",
    "# ffill (forward fill): Fills missing values with the last valid value above\n",
    "# axis=0 (rows): Works row-wise (fills down)\n",
    "# limit=1: Fills at most one missing value per column if axis=0 or per row if axis=1\n",
    "df_ffill = df.fillna(method='ffill', axis=0, limit=1)\n",
    "\n",
    "# Filling Missing Values Using Backward Fill (bfill)\n",
    "# bfill (backward fill): Fills missing values with the next valid value below.\n",
    "# if there’s no value below (e.g., last row), the missing value remains NaN\n",
    "df_bfill = df.fillna(method='bfill')\n",
    "\n",
    "# Removing Rows or Columns with Missing Values (dropna)\n",
    "# this removes rows where any value is NaN.\n",
    "# to drop columns instead, use df.dropna(axis=1).\n",
    "df_cleaned = df.dropna()\n"
   ]
  },
  {
   "cell_type": "markdown",
   "metadata": {},
   "source": [
    "#### **Data Selection and Manipulation**"
   ]
  },
  {
   "cell_type": "code",
   "execution_count": null,
   "metadata": {},
   "outputs": [],
   "source": [
    "df = pd.DataFrame([[1, 2, 7], [8, 5, 9], [4, 3, 6]],  \n",
    "                  columns=['a', 'b', 'c'],  \n",
    "                  index=['d', 'e', 'f'])  \n",
    "df['a'] # you can easily view all the columns seperately like this\n",
    "df[['a', 'c']] # you can also provide a list of columns to view multiple columns\n",
    "\n",
    "# DF.LOC()\n",
    "df.loc[['d']] # Access a group of rows and columns by label(s) or a boolean array. a single label\n",
    "df.loc[['d', 'e']] # a list or array of labels\n",
    "df.loc['d':'f'] # a slice object with labels\n",
    "df.loc[[True, False, True]] # a boolean array of the same length as the axis\n",
    "df.loc[df['a'] % 2 == 0] # conditional that returns a boolean Series\n",
    "df.loc[df['a'] > 2] # conditional that returns a boolean Series\n",
    "\n",
    "# DF.ILOC()\n",
    "df.iloc[1] # return the columns of the given index/row\n",
    "df.iloc[[0,1,2]] # list or array of integers\n",
    "df.iloc[0:3] # slice object with ints\n",
    "df.iloc[[True, False, True]] # a boolean array of the same length as the axis\n",
    "\n",
    "# ADDING NEW COLUMNS\n",
    "df['z'] = [10, 11, 12]\n",
    "df['x'] = df['b'] + df['c']\n",
    "\n",
    "# Removing columns and rows\n",
    "df = df.drop(['x'], axis=1) # a list of columns or index u want to delete and the axis {0 or ‘index’, 1 or ‘columns’}, default 0\n",
    "\n",
    "# SORTING DATA\n",
    "df.sort_values(axis=1, by='e') # by = column if axis = 0, index if axis = 1\n",
    "df['y'] = df['a'] + df['b']\n",
    "df.sort_index(axis=1)\n",
    "\n",
    "# RESETTING AND SETTING INDEX\n",
    "df = pd.DataFrame({'month': [1, 4, 7, 10],\n",
    "                   'year': [2012, 2014, 2013, 2014],\n",
    "                   'sale': [55, 40, 84, 31]})\n",
    "df.set_index('month') # Set the index to become the ‘month’ column\n",
    "df.set_index(['year', 'month']) # Create a MultiIndex using columns ‘year’ and ‘month’\n",
    "df.set_index([pd.Index([1, 2, 3, 4]), 'month']) # Create a MultiIndex using an Index and a column\n"
   ]
  },
  {
   "cell_type": "markdown",
   "metadata": {},
   "source": [
    "#### **Data Cleaning & Preprocessing**"
   ]
  },
  {
   "cell_type": "code",
   "execution_count": null,
   "metadata": {},
   "outputs": [],
   "source": [
    "df = pd.DataFrame([(0.0, np.nan, -1.0, 1.0),\n",
    "                   (np.nan, 2.0, np.nan, np.nan),\n",
    "                   (2.0, 3.0, np.nan, 9.0),\n",
    "                   (np.nan, 4.0, -4.0, 16.0)],\n",
    "                  columns=list('abcd'))\n",
    "df.interpolate(axis=0, limit_direction='both') # make note for this, why 'forward' and 'backward' it not usefull and why using 'both'\n",
    "\n",
    "# HANDLING DUPLICATES\n",
    "df = pd.DataFrame({\n",
    "    'brand': ['Yum Yum', 'Yum Yum', 'Indomie', 'Indomie', 'Indomie'],\n",
    "    'style': ['cup', 'cup', 'cup', 'pack', 'pack'],\n",
    "    'rating': [4, 4, 3.5, 5, 5]\n",
    "})\n",
    "df.duplicated() # Return boolean Series denoting duplicate rows.\n",
    "df.drop_duplicates()\n",
    "df.drop_duplicates(subset=['brand']) # remove duplicates on specific columns\n",
    "\n",
    "# CHANGING DATATYPES\n",
    "df = pd.DataFrame({'col1': [1, 2], 'col2': [3, 4]})\n",
    "df.astype('int32').dtypes # all columns to int32\n",
    "df.astype({'col1': 'int32'}).dtypes # col1 to int32 using a dictionary\n",
    "\n",
    "# RENAMING COLUMNS\n",
    "df.rename(columns={'col1': 'A', 'col2' : 'B'})\n",
    "df.rename(index={0: 'A', 1 : 'B'})\n",
    "\n",
    "# REPLACING VALUES\n",
    "df.replace([1,2,3],5) # replaces all the given values in the list with 5\n",
    "df.replace([1,2], [6,7]) # Replace 1 with 6, 2 with 7\n",
    "\n",
    "# APPLYING FUNCTIONS\n",
    "df = df.replace([1,2,3,4], [1,4,9,16])\n",
    "df.apply(np.sqrt) # Apply square root to all values\n",
    "df.apply(np.sum, axis=1) # Sum rows"
   ]
  },
  {
   "cell_type": "markdown",
   "metadata": {},
   "source": [
    "#### **Grouping & Aggregation**"
   ]
  },
  {
   "cell_type": "code",
   "execution_count": null,
   "metadata": {},
   "outputs": [],
   "source": [
    "df = pd.DataFrame({'Animal': ['Falcon', 'Falcon',\n",
    "                              'Parrot', 'Parrot'],\n",
    "                   'Max Speed': [380., 370., 24., 26.]})\n",
    "df.groupby('Animal').mean()  # Group by category and calculate mean\n",
    "df.groupby('Animal').sum()  # Group by category and calculate sum\n",
    "df.groupby('Animal').count()  # Group by category and Count occurrences\n",
    "df.agg(['sum', 'max'])"
   ]
  },
  {
   "cell_type": "markdown",
   "metadata": {},
   "source": [
    "#### **Merging and Combining Dataframes**"
   ]
  },
  {
   "cell_type": "code",
   "execution_count": null,
   "metadata": {},
   "outputs": [],
   "source": [
    "df1 = pd.DataFrame([['a', 1], ['b', 2]],\n",
    "                   columns=['letter', 'number'])\n",
    "df2 = pd.DataFrame([['c', 3], ['d', 4]],\n",
    "                   columns=['letter', 'number'])\n",
    "pd.concat([df1, df2]) # Stack DataFrames on top of each other\n",
    "\n",
    "df1 = pd.DataFrame({'lkey': ['foo', 'bar', 'baz', 'foo'],\n",
    "                    'value': [1, 2, 3, 5]})\n",
    "df2 = pd.DataFrame({'rkey': ['foo', 'bar', 'baz', 'foo'],\n",
    "                    'value': [5, 6, 7, 8]})\n",
    "df1.merge(df2, left_on='lkey', right_on='rkey')\n",
    "\n",
    "df1 = pd.DataFrame({'A': ['A0', 'A1', 'A2']}, index=['K1', 'K2', 'K3'])\n",
    "df2 = pd.DataFrame({'B': ['B1', 'B2', 'B3']}, index=['K1', 'K2', 'K4'])\n",
    "\n",
    "result = df1.join(df2)  # Default: LEFT JOIN on index\n",
    "result"
   ]
  },
  {
   "cell_type": "code",
   "execution_count": null,
   "metadata": {},
   "outputs": [],
   "source": []
  }
 ],
 "metadata": {
  "kernelspec": {
   "display_name": "venv",
   "language": "python",
   "name": "python3"
  },
  "language_info": {
   "codemirror_mode": {
    "name": "ipython",
    "version": 3
   },
   "file_extension": ".py",
   "mimetype": "text/x-python",
   "name": "python",
   "nbconvert_exporter": "python",
   "pygments_lexer": "ipython3",
   "version": "3.12.5"
  }
 },
 "nbformat": 4,
 "nbformat_minor": 2
}
