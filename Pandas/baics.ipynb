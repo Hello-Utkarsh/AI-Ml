{
 "cells": [
  {
   "cell_type": "markdown",
   "metadata": {},
   "source": [
    "# **What is Pandas and Why to use it?**\n",
    "Pandas is a powerful Python library used for data manipulation and analysis. It provides easy-to-use data structures like Series and DataFrames, which help in handling tabular data (like spreadsheets or SQL tables). If you're working with structured data—whether it's from a CSV file, an Excel sheet, or a database—Pandas makes it easy to clean, explore, and process your data efficiently."
   ]
  },
  {
   "cell_type": "code",
   "execution_count": null,
   "metadata": {},
   "outputs": [],
   "source": [
    "import pandas as pd"
   ]
  },
  {
   "cell_type": "markdown",
   "metadata": {},
   "source": [
    "## Series\n",
    "A one-dimensional labeled array capable of holding any data type (integers, strings, floating point numbers, Python objects, etc.)."
   ]
  },
  {
   "cell_type": "code",
   "execution_count": null,
   "metadata": {},
   "outputs": [
    {
     "name": "stdout",
     "output_type": "stream",
     "text": [
      "(4,)\n"
     ]
    }
   ],
   "source": [
    "data1 = [5,4]\n",
    "index=['a', 'b']\n",
    "s = pd.Series(data1) # the length of data and index should be same, if you don’t provide an index, pandas assigns default integer indices (0, 1, 2, ...)\n",
    "data2 = {'a': 1, 'b': 2} # a and b will be taken as index\n",
    "s = pd.Series(data2, index=['b', 'c', 'd', 'a']) # if u still specify index, the values in data2 corresponding to the labels in the index will be pulled out\n",
    "print(s.shape) # (length)\n",
    "print(s.head(2)) # return the given no of rows from the top\n",
    "print(s.tail(2)) # returns the given no of rows from bottom\n",
    "print(s.info()) # Summary of the DataFrame (data types, missing values, etc.)\n",
    "print(s.describe()) # Statistical summary of numeric columns"
   ]
  },
  {
   "cell_type": "markdown",
   "metadata": {},
   "source": [
    "## **DataFrames**\n",
    "DataFrame is a 2-dimensional labeled data structure with columns of different types. You can think of it like a spreadsheet or SQL table, or a dict of Series objects. It is generally the most commonly used pandas object."
   ]
  },
  {
   "cell_type": "code",
   "execution_count": null,
   "metadata": {},
   "outputs": [],
   "source": [
    "df = pd.DataFrame([[1, 2, 3], [4, 5, 6, 10], [7, 9]],  \n",
    "                  columns=['a', 'b', 'c', 'z'],  \n",
    "                  index=['d', 'e', 'f'])  \n",
    "df.head(1) # return the given no of rows from the top\n",
    "df.tail(2) # return the given no of rows from the bottom\n",
    "print(df.shape) # (Rows, Columns)  \n",
    "print(df.size) # Total number of elements  \n",
    "print(df.info()) # Summary of the DataFrame (data types, missing values, etc.)\n",
    "print(df.describe()) # Statistical summary of numeric columns  "
   ]
  },
  {
   "cell_type": "markdown",
   "metadata": {},
   "source": [
    "#### Handling Missing Values (NaN) in Pandas\n",
    "Pandas provides several ways to deal with missing values (NaN)."
   ]
  },
  {
   "cell_type": "code",
   "execution_count": null,
   "metadata": {},
   "outputs": [],
   "source": [
    "# Replacing Missing Values with a Specific Value (fillna)\n",
    "df_filled = df.fillna({'z': 5}) # replaces NaN values only in the column 'z' with 5.\n",
    "\n",
    "# Filling Missing Values Using Forward Fill (ffill)\n",
    "# ffill (forward fill): Fills missing values with the last valid value above\n",
    "# axis=0 (rows): Works row-wise (fills down)\n",
    "# limit=1: Fills at most one missing value per column if axis=0 or per row if axis=1\n",
    "df_ffill = df.fillna(method='ffill', axis=0, limit=1)\n",
    "\n",
    "# Filling Missing Values Using Backward Fill (bfill)\n",
    "# bfill (backward fill): Fills missing values with the next valid value below.\n",
    "# if there’s no value below (e.g., last row), the missing value remains NaN\n",
    "df_bfill = df.fillna(method='bfill')\n",
    "\n",
    "# Removing Rows or Columns with Missing Values (dropna)\n",
    "# this removes rows where any value is NaN.\n",
    "# to drop columns instead, use df.dropna(axis=1).\n",
    "df_cleaned = df.dropna()\n"
   ]
  }
 ],
 "metadata": {
  "kernelspec": {
   "display_name": "venv",
   "language": "python",
   "name": "python3"
  },
  "language_info": {
   "codemirror_mode": {
    "name": "ipython",
    "version": 3
   },
   "file_extension": ".py",
   "mimetype": "text/x-python",
   "name": "python",
   "nbconvert_exporter": "python",
   "pygments_lexer": "ipython3",
   "version": "3.12.5"
  }
 },
 "nbformat": 4,
 "nbformat_minor": 2
}
