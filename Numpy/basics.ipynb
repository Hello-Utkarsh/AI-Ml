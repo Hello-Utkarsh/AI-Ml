{
 "cells": [
  {
   "cell_type": "markdown",
   "metadata": {},
   "source": [
    "# **NumPy: What It Is and Why We Need It**\n",
    "#### What is NumPy?\n",
    "NumPy (Numerical Python) is a Python library written in C that provides powerful tools for working with arrays. It allows us to efficiently perform mathematical operations on large datasets, making it an essential library for data science, machine learning, and scientific computing.\n",
    "\n",
    "#### Why Use NumPy Instead of Regular Python Lists?\n",
    "You might wonder—why not just use Python lists? The answer is speed and simplicity.\n",
    "\n",
    "With Python lists, performing mathematical operations like addition or multiplication on every element requires extra work. NumPy makes this effortless:"
   ]
  },
  {
   "cell_type": "code",
   "execution_count": null,
   "metadata": {},
   "outputs": [],
   "source": [
    "import numpy as np\n",
    "import time"
   ]
  },
  {
   "cell_type": "code",
   "execution_count": null,
   "metadata": {},
   "outputs": [],
   "source": [
    "# ❌ Operations on Python Lists (Errors & Limitations)\n",
    "a = [1, 2, 3] + 2  # ❌ Error: Can’t add a number directly to a list\n",
    "a = [1, 2, 3] - 2  # ❌ Error: Unsupported operand\n",
    "a = [1, 2, 3] / 2  # ❌ Error: Unsupported operand\n",
    "a = [1, 2, 3] * 2  # ✅ Works, but duplicates elements instead of multiplying them\n",
    "print(a)  # Output: [1, 2, 3, 1, 2, 3] (not what we want)"
   ]
  },
  {
   "cell_type": "code",
   "execution_count": null,
   "metadata": {},
   "outputs": [],
   "source": [
    "# ✅ Operations on NumPy Arrays (Fast & Easy)\n",
    "a = np.array([1,2,3]) + 2\n",
    "print(a) # Output: [3 4 5]\n",
    "a = np.array([1,2,3]) - 2\n",
    "print(a) # Output: [-1  0  1]\n",
    "a = np.array([1,2,3]) / 2\n",
    "print(a) # Output: [0.5 1.  1.5]\n",
    "a = np.array([1,2,3]) * 2\n",
    "print(a) # Output: [2 4 6]"
   ]
  },
  {
   "cell_type": "markdown",
   "metadata": {},
   "source": [
    "#### **NumPy is Faster than Regular Python**\n",
    "Let’s compare the speed of manual list operations vs. NumPy operations:"
   ]
  },
  {
   "cell_type": "code",
   "execution_count": null,
   "metadata": {},
   "outputs": [],
   "source": [
    "start = time.time()\n",
    "# Manual multiplication using Python lists\n",
    "manual_array = [i*2 for i in range(100000)]\n",
    "print('Manual array took', time.time() - start, 'to complete the array')\n",
    "\n",
    "# Multiplication using NumPy\n",
    "start = time.time()\n",
    "np_array = np.arange(0, 100000) * 2\n",
    "print('Numpy array took', time.time() - start, 'to complete the array')"
   ]
  },
  {
   "cell_type": "markdown",
   "metadata": {},
   "source": [
    "#### **Creating NumPy Arrays**"
   ]
  },
  {
   "cell_type": "code",
   "execution_count": null,
   "metadata": {},
   "outputs": [],
   "source": [
    "a = np.array([1,2,3])\n",
    "print(\"1 dimensional array\",a)\n",
    "# b = np.array([1,2,3], [4,5,6]) this will give an error as np.array() requires a single array of inputs\n",
    "# corect way to generate multi-dimensional array\n",
    "b = np.array([[1,2,3],[4,5,6]])\n",
    "print(\"2 dimensional array\",b)\n",
    "b = np.array([[1,2,3],[4,5,6], [7,8,9]])\n",
    "print(\"3 dimensional array\",b)"
   ]
  },
  {
   "cell_type": "markdown",
   "metadata": {},
   "source": [
    "#### **NumPy provides several convenient ways to create different types of arrays:**"
   ]
  },
  {
   "cell_type": "code",
   "execution_count": null,
   "metadata": {},
   "outputs": [],
   "source": [
    "np_zeros = np.zeros((3,4))\n",
    "np_ones = np.ones((3,4))\n",
    "np_random = np.random.random((3,4))\n",
    "np_constants = np.full((3,4), 2)\n",
    "np_sequence = np.arange(0, 11, 2)\n",
    "print(np_zeros)\n",
    "print(np_ones)\n",
    "print(np_random)\n",
    "print(np_constants)\n",
    "print(np_sequence)"
   ]
  },
  {
   "cell_type": "markdown",
   "metadata": {},
   "source": [
    "### Vectors, Matrices and Tensors\n",
    "Vectors: a 1D array representing a collection of numbers typically used for positions, velocities or features\n",
    "\n",
    "Matrices: a 2D array used for linear algebra, transformation and solving equations\n",
    "\n",
    "Tensors: a multi-dimensional array(3D or higher)"
   ]
  },
  {
   "cell_type": "code",
   "execution_count": null,
   "metadata": {},
   "outputs": [],
   "source": [
    "vectors = np.array([1,2,3])\n",
    "matrix = np.array([[1,2,3],[4,5,6]])\n",
    "tensor = np.array([[[1,2,3],[4,5,6],[7,8,9]]])\n",
    "print(vectors)\n",
    "print(matrix)\n",
    "print(tensor)"
   ]
  },
  {
   "cell_type": "markdown",
   "metadata": {},
   "source": [
    "#### **Properties of array**"
   ]
  },
  {
   "cell_type": "code",
   "execution_count": null,
   "metadata": {},
   "outputs": [],
   "source": [
    "array = np.array([1,2,3])\n",
    "print(array.shape) # (3,) -> Number of elements in each dimension\n",
    "print(array.ndim) # 1 -> Number of dimensions\n",
    "print(array.size) # 3 -> Total elements in array\n",
    "print(array.dtype) # int64"
   ]
  },
  {
   "cell_type": "markdown",
   "metadata": {},
   "source": [
    "#### **Reshaping Arrays**"
   ]
  },
  {
   "cell_type": "code",
   "execution_count": null,
   "metadata": {},
   "outputs": [],
   "source": [
    "array = np.array([1,2,3,4])\n",
    "reshaped_array = array.reshape((2,2)) # Reshape into 2x2 matrix\n",
    "flattened_array = reshaped_array.flatten() # Converts a multi-dimensional array into 1D. Always returns a copy\n",
    "raveled_array = reshaped_array.ravel() # returns a view of the original array(does not allocate new memory). If view is not possible then returns a copy\n",
    "transposed_array = reshaped_array.T # swap rows and colum\n",
    "print(reshaped_array)\n",
    "raveled_array[0] = 5 # this will affect the original reshaped_array\n",
    "print(reshaped_array)\n",
    "print(raveled_array)\n",
    "print(flattened_array)\n",
    "print(transposed_array)"
   ]
  }
 ],
 "metadata": {
  "kernelspec": {
   "display_name": "myfirstdjangoapp",
   "language": "python",
   "name": "python3"
  },
  "language_info": {
   "codemirror_mode": {
    "name": "ipython",
    "version": 3
   },
   "file_extension": ".py",
   "mimetype": "text/x-python",
   "name": "python",
   "nbconvert_exporter": "python",
   "pygments_lexer": "ipython3",
   "version": "3.10.5"
  }
 },
 "nbformat": 4,
 "nbformat_minor": 2
}
