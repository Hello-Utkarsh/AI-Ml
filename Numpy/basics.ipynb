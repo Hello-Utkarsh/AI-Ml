{
 "cells": [
  {
   "cell_type": "markdown",
   "metadata": {},
   "source": [
    "# **NumPy: What It Is and Why We Need It**\n",
    "#### What is NumPy?\n",
    "NumPy (Numerical Python) is a Python library written in C that provides powerful tools for working with arrays. It allows us to efficiently perform mathematical operations on large datasets, making it an essential library for data science, machine learning, and scientific computing.\n",
    "\n",
    "#### Why Use NumPy Instead of Regular Python Lists?\n",
    "You might wonder—why not just use Python lists? The answer is speed and simplicity.\n",
    "\n",
    "With Python lists, performing mathematical operations like addition or multiplication on every element requires extra work. NumPy makes this effortless:"
   ]
  },
  {
   "cell_type": "code",
   "execution_count": 1,
   "metadata": {},
   "outputs": [],
   "source": [
    "import numpy as np\n",
    "import time"
   ]
  },
  {
   "cell_type": "code",
   "execution_count": null,
   "metadata": {},
   "outputs": [],
   "source": [
    "# ❌ Operations on Python Lists (Errors & Limitations)\n",
    "a = [1, 2, 3] + 2  # ❌ Error: Can’t add a number directly to a list\n",
    "a = [1, 2, 3] - 2  # ❌ Error: Unsupported operand\n",
    "a = [1, 2, 3] / 2  # ❌ Error: Unsupported operand\n",
    "a = [1, 2, 3] * 2  # ✅ Works, but duplicates elements instead of multiplying them\n",
    "print(a)  # Output: [1, 2, 3, 1, 2, 3] (not what we want)"
   ]
  },
  {
   "cell_type": "code",
   "execution_count": null,
   "metadata": {},
   "outputs": [],
   "source": [
    "# ✅ Operations on NumPy Arrays (Fast & Easy)\n",
    "a = np.array([1,2,3]) + 2\n",
    "print(a) # Output: [3 4 5]\n",
    "a = np.array([1,2,3]) - 2\n",
    "print(a) # Output: [-1  0  1]\n",
    "a = np.array([1,2,3]) / 2\n",
    "print(a) # Output: [0.5 1.  1.5]\n",
    "a = np.array([1,2,3]) * 2\n",
    "print(a) # Output: [2 4 6]"
   ]
  },
  {
   "cell_type": "markdown",
   "metadata": {},
   "source": [
    "#### **NumPy is Faster than Regular Python**\n",
    "Let’s compare the speed of manual list operations vs. NumPy operations:"
   ]
  },
  {
   "cell_type": "code",
   "execution_count": null,
   "metadata": {},
   "outputs": [],
   "source": [
    "start = time.time()\n",
    "# Manual multiplication using Python lists\n",
    "manual_array = [i*2 for i in range(100000)]\n",
    "print('Manual array took', time.time() - start, 'to complete the array')\n",
    "\n",
    "# Multiplication using NumPy\n",
    "start = time.time()\n",
    "np_array = np.arange(0, 100000) * 2\n",
    "print('Numpy array took', time.time() - start, 'to complete the array')"
   ]
  },
  {
   "cell_type": "markdown",
   "metadata": {},
   "source": [
    "#### **Creating NumPy Arrays**"
   ]
  },
  {
   "cell_type": "code",
   "execution_count": null,
   "metadata": {},
   "outputs": [],
   "source": [
    "a = np.array([1,2,3])\n",
    "print(\"1 dimensional array\",a)\n",
    "# b = np.array([1,2,3], [4,5,6]) this will give an error as np.array() requires a single array of inputs\n",
    "# corect way to generate multi-dimensional array\n",
    "b = np.array([[1,2,3],[4,5,6]])\n",
    "print(\"2 dimensional array\",b)\n",
    "b = np.array([[1,2,3],[4,5,6], [7,8,9]])\n",
    "print(\"3 dimensional array\",b)"
   ]
  },
  {
   "cell_type": "markdown",
   "metadata": {},
   "source": [
    "#### **NumPy provides several convenient ways to create different types of arrays:**"
   ]
  },
  {
   "cell_type": "code",
   "execution_count": null,
   "metadata": {},
   "outputs": [],
   "source": [
    "np_zeros = np.zeros((3,4))\n",
    "np_ones = np.ones((3,4))\n",
    "np_random = np.random.random((3,4))\n",
    "np_constants = np.full((3,4), 2)\n",
    "np_sequence = np.arange(0, 11, 2)\n",
    "print(np_zeros)\n",
    "print(np_ones)\n",
    "print(np_random)\n",
    "print(np_constants)\n",
    "print(np_sequence)"
   ]
  },
  {
   "cell_type": "markdown",
   "metadata": {},
   "source": [
    "### Vectors, Matrices and Tensors\n",
    "Vectors: a 1D array representing a collection of numbers typically used for positions, velocities or features\n",
    "\n",
    "Matrices: a 2D array used for linear algebra, transformation and solving equations\n",
    "\n",
    "Tensors: a multi-dimensional array(3D or higher)"
   ]
  },
  {
   "cell_type": "code",
   "execution_count": null,
   "metadata": {},
   "outputs": [],
   "source": [
    "vectors = np.array([1,2,3])\n",
    "matrix = np.array([[1,2,3],[4,5,6]])\n",
    "tensor = np.array([[[1,2,3],[4,5,6],[7,8,9]]])\n",
    "print(vectors)\n",
    "print(matrix)\n",
    "print(tensor)"
   ]
  },
  {
   "cell_type": "markdown",
   "metadata": {},
   "source": [
    "#### **Properties of array**"
   ]
  },
  {
   "cell_type": "code",
   "execution_count": null,
   "metadata": {},
   "outputs": [],
   "source": [
    "array = np.array([1,2,3])\n",
    "print(array.shape) # (3,) -> Number of elements in each dimension\n",
    "print(array.ndim) # 1 -> Number of dimensions\n",
    "print(array.size) # 3 -> Total elements in array\n",
    "print(array.dtype) # int64"
   ]
  },
  {
   "cell_type": "markdown",
   "metadata": {},
   "source": [
    "#### **Reshaping Arrays**"
   ]
  },
  {
   "cell_type": "code",
   "execution_count": null,
   "metadata": {},
   "outputs": [],
   "source": [
    "array = np.array([1,2,3,4])\n",
    "reshaped_array = array.reshape((2,2)) # Reshape into 2x2 matrix\n",
    "flattened_array = reshaped_array.flatten() # Converts a multi-dimensional array into 1D. Always returns a copy\n",
    "raveled_array = reshaped_array.ravel() # returns a view of the original array(does not allocate new memory). If view is not possible then returns a copy\n",
    "transposed_array = reshaped_array.T # swap rows and colum\n",
    "print(reshaped_array)\n",
    "raveled_array[0] = 5 # this will affect the original reshaped_array\n",
    "print(reshaped_array)\n",
    "print(raveled_array)\n",
    "print(flattened_array)\n",
    "print(transposed_array)"
   ]
  },
  {
   "cell_type": "code",
   "execution_count": null,
   "metadata": {},
   "outputs": [],
   "source": [
    "a = np.array([[1,2,3],[4,5,6]])\n",
    "print(a[0, 2])"
   ]
  },
  {
   "cell_type": "markdown",
   "metadata": {},
   "source": [
    "#### **Slicing, Sorting, Filtering and Masking**\n",
    "NumPy allows you to easily access specific parts of an array using slicing, sorting, filtering, and masking. These operations make it easier to work with data efficiently."
   ]
  },
  {
   "cell_type": "code",
   "execution_count": null,
   "metadata": {},
   "outputs": [],
   "source": [
    "np_array = np.array([\n",
    "    [1, 5, 6],\n",
    "    [4, 8, 9],\n",
    "    [7, 2, 4]\n",
    "])\n",
    "# Accessing a single element using two different ways\n",
    "print(np_array[0, 1])  # 5 (Row 0, Column 1)\n",
    "print(np_array[0][1])  # Same as above\n",
    "\n",
    "print(np_array[2, 2])  # 4 (Row 2, Column 2)\n",
    "print(np_array[2][2])  # Same as above\n",
    "\n",
    "# Extracting a full row\n",
    "print(np_array[0, :])  # [1, 5, 6] (First row)\n",
    "print(np_array[0])     # Same as above\n",
    "\n",
    "# Extracting a full column\n",
    "print(np_array[:, 2])  # [6, 9, 4] (Third column)\n",
    "\n",
    "# Sort each column individually\n",
    "print(np.sort(np_array, axis=0))\n",
    "# Output:\n",
    "# [[1 2 4]\n",
    "#  [4 5 6]\n",
    "#  [7 8 9]]\n",
    "\n",
    "# Sort each row individually\n",
    "print(np.sort(np_array, axis=1))\n",
    "# Output:\n",
    "# [[1 5 6]\n",
    "#  [4 8 9]\n",
    "#  [2 4 7]]\n",
    "\n",
    "np_array = np.array([1, 2, 3, 4, 5, 6, 7, 8, 9])\n",
    "# Extract even numbers\n",
    "print(np_array[np_array % 2 == 0])  # Output: [2 4 6 8]\n",
    "\n",
    "# Masking: Create a boolean array where condition (value > 5) is True\n",
    "mask = np_array > 5\n",
    "print(np_array[mask])  # Output: [6 7 8 9]\n",
    "\n",
    "# Divide even numbers by 2, keep odd numbers unchanged\n",
    "conditional_array = np.where(np_array % 2 == 0, np_array / 2, np_array)\n",
    "# np.where(condition, operation, else caluse), wherever the condition is true the operation gets executed otherwise the else clause gets executed\n",
    "# original array [1,2,3,4,5,6,7,8,9], condition = array % 2 == 0(values which are even), operation = divide the values by 2, else add the original value\n",
    "print(conditional_array)\n",
    "# Output: [1. 1. 3. 2. 5. 3. 7. 4. 9.]\n",
    "\n",
    "# Replace numbers greater than 5 with the string \"true\", else \"false\"\n",
    "conditional_array2 = np.where(np_array > 5, 'true', 'false')\n",
    "# where the condition of value > 5 is true in the array [1,2,3,4,5,6,7,8,9], the string 'true' is added otherwise 'false' is added\n",
    "print(conditional_array2)\n",
    "# Output: ['false' 'false' 'false' 'false' 'false' 'true' 'true' 'true' 'true']\n"
   ]
  },
  {
   "cell_type": "markdown",
   "metadata": {},
   "source": [
    "#### **Adding and Deleting rows and columns**"
   ]
  },
  {
   "cell_type": "code",
   "execution_count": 4,
   "metadata": {},
   "outputs": [
    {
     "name": "stdout",
     "output_type": "stream",
     "text": [
      "[1 2 3 4 5 6]\n",
      "[[1 2 3]\n",
      " [7 8 9]]\n",
      "[[ 1  2  3  4]\n",
      " [ 7  8  9 10]]\n",
      "[[1 2 3]\n",
      " [7 8 9]]\n"
     ]
    }
   ],
   "source": [
    "np_array1 = np.array([1, 2, 3])\n",
    "np_array2 = np.array([4, 5, 6])\n",
    "\n",
    "# Merging two 1D arrays\n",
    "concatenated_array = np.concatenate((np_array1, np_array2))\n",
    "print(concatenated_array)  \n",
    "# Output: [1 2 3 4 5 6]\n",
    "\n",
    "# Adding a new row\n",
    "new_row = np.array([7, 8, 9])\n",
    "with_new_row = np.vstack((np_array1, new_row))\n",
    "print(with_new_row)\n",
    "# Output:\n",
    "# [[1 2 3]\n",
    "#  [7 8 9]]\n",
    "\n",
    "# Adding a new column\n",
    "new_column = np.array([[4], [10]])  # Each value must be in a separate list\n",
    "with_new_column = np.hstack((with_new_row, new_column))\n",
    "print(with_new_column)\n",
    "# Output:\n",
    "# [[ 1  2  3  4]\n",
    "#  [ 7  8  9 10]]\n",
    "\n",
    "# deleting\n",
    "deleted_array = np.delete(with_new_column, 3, axis=1) # (target array, index, axis(0 for row, 1 for column))\n",
    "print(deleted_array)\n",
    "# Output:\n",
    "# [[1 2 3]\n",
    "#  [7 8 9]]"
   ]
  },
  {
   "cell_type": "code",
   "execution_count": null,
   "metadata": {},
   "outputs": [],
   "source": []
  }
 ],
 "metadata": {
  "kernelspec": {
   "display_name": "venv",
   "language": "python",
   "name": "python3"
  },
  "language_info": {
   "codemirror_mode": {
    "name": "ipython",
    "version": 3
   },
   "file_extension": ".py",
   "mimetype": "text/x-python",
   "name": "python",
   "nbconvert_exporter": "python",
   "pygments_lexer": "ipython3",
   "version": "3.12.5"
  }
 },
 "nbformat": 4,
 "nbformat_minor": 2
}
