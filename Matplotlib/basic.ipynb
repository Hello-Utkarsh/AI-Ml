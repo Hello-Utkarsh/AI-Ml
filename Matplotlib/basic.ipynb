{
 "cells": [
  {
   "cell_type": "markdown",
   "metadata": {},
   "source": [
    "### Matplotlib"
   ]
  },
  {
   "cell_type": "code",
   "execution_count": null,
   "metadata": {},
   "outputs": [],
   "source": [
    "import matplotlib.pyplot as plt\n",
    "import numpy as np"
   ]
  },
  {
   "cell_type": "code",
   "execution_count": null,
   "metadata": {},
   "outputs": [],
   "source": [
    "# SIMPLE LINE PLOT\n",
    "x = np.linspace(0, 2 * np.pi, 200) # creates a list 200 evenly separated values from 0 to 2*3.14\n",
    "y1 = np.sin(x)\n",
    "y2 = np.cos(x)\n",
    "plt.plot(x, y1, label='sine wave', color='green', linestyle='dotted')\n",
    "plt.plot(x, y2, label='cos wave', color='red', linestyle='dashed')\n",
    "plt.title('sin/cos graph')\n",
    "plt.xlabel('x')\n",
    "plt.ylabel('y')\n",
    "plt.legend() # a small box that explains what different colors, lines, or markers in a plot represent\n",
    "plt.xlim(0,4) # Show only x values between 2 and 8\n",
    "plt.ylim(-1, 1) # Show only y values between -0.5 and 1\n",
    "plt.xticks([0, 2, 4], [\"Zero\", \"Two\", \"Four\"]) # control the tick marks and labels on the X axis\n",
    "plt.yticks([-1, -0.5, 0, 0.5, 1], [\"-1\", \"-0.5\", \"Zero\", \"0.5\", \"1\"]) # control the tick marks and labels on the Y axis\n",
    "plt.savefig('sin-wave.png') # Saves the plot as an image file\n",
    "plt.show()"
   ]
  },
  {
   "cell_type": "markdown",
   "metadata": {},
   "source": [
    "#### **Some other types of Plot**"
   ]
  },
  {
   "cell_type": "code",
   "execution_count": null,
   "metadata": {},
   "outputs": [],
   "source": [
    "# SCATTER PLOT\n",
    "x = np.random.rand(40)\n",
    "y = np.random.rand(40)\n",
    "\n",
    "plt.figure()\n",
    "plt.scatter(x, y, color='red', marker='s' ,label='Random points') # marker parameter controls the shape of each point. labels are for legends\n",
    "plt.xlabel('X-Axis')\n",
    "plt.ylabel('Y-Axis')\n",
    "plt.title('Random Points')\n",
    "plt.legend()\n",
    "\n",
    "# BAR GRAPH\n",
    "plt.figure()\n",
    "categories = [\"Apple\", \"Banana\", \"Orange\", \"Grapes\"]\n",
    "values = [10, 20, 15, 25]\n",
    "\n",
    "plt.bar(categories, values, color=[\"red\", \"yellow\", \"orange\", \"purple\"])\n",
    "plt.xlabel(\"Fruits\")\n",
    "plt.ylabel(\"Sales\")\n",
    "plt.title(\"Bar Chart Example\")\n",
    "\n",
    "# HISTOGRAM\n",
    "data = np.random.randn(500)\n",
    "\n",
    "plt.figure()\n",
    "plt.hist(data, bins=30, color='blue') # bins represent the number of intervals (or bars) the data is divided into\n",
    "plt.show()\n",
    "\n",
    "# PIE CHART\n",
    "sizes = [40, 30, 20, 10]  # Percentage values\n",
    "labels = [\"Apple\", \"Banana\", \"Orange\", \"Grapes\"]\n",
    "colors = [\"red\", \"yellow\", \"orange\", \"purple\"]\n",
    "plt.pie(sizes, labels=labels, colors=colors, autopct=\"%1.1f%%\", startangle=140) # `autopct` adds percentage labels, `startangle` rotates the chart\n",
    "plt.title(\"Pie Chart Example\")\n",
    "plt.show()\n",
    "\n",
    "# BOX CHART\n",
    "data = [np.random.random(100)*4 +50 for i in range(4)] # Generates 4 groups of 100 random values each, centered around 50\n",
    "\n",
    "plt.figure()\n",
    "plt.boxplot(data, tick_labels=['A', 'B', 'C', 'D']) # Box plot shows median, quartiles, and outliers\n",
    "plt.xlabel(\"Groups\")\n",
    "plt.ylabel(\"Values\")\n",
    "plt.title(\"Box Plot Example\")\n",
    "plt.show()"
   ]
  },
  {
   "cell_type": "markdown",
   "metadata": {},
   "source": [
    "#### **Subplots & Multiple Plots**  "
   ]
  },
  {
   "cell_type": "code",
   "execution_count": null,
   "metadata": {},
   "outputs": [],
   "source": [
    "x = np.linspace(0,10,100)\n",
    "y1 = np.sin(x)\n",
    "y2 = np.cos(x)\n",
    "\n",
    "plt.figure()\n",
    "\n",
    "plt.subplot(2, 3, 1)\n",
    "plt.plot(x, y1, color='red')\n",
    "plt.title('Sin Wave')\n",
    "\n",
    "plt.subplot(2, 3, 2)  # (rows=2, cols=1, index=2)\n",
    "plt.plot(x, y2, color='blue')\n",
    "plt.title(\"Cosine Wave\")\n",
    "\n",
    "plt.tight_layout() # adjust plots to not overlap or look messy\n",
    "plt.show()\n",
    "\n",
    "fig, ax = plt.subplots(3, 3, sharex=True, sharey=True)\n",
    "\n",
    "for i in range(3):\n",
    "    for j in range(3):\n",
    "        ax[i, j].plot(x, np.sin(x + i + j))\n",
    "\n",
    "plt.tight_layout()\n",
    "plt.show()"
   ]
  },
  {
   "cell_type": "code",
   "execution_count": null,
   "metadata": {},
   "outputs": [],
   "source": []
  }
 ],
 "metadata": {
  "kernelspec": {
   "display_name": "venv",
   "language": "python",
   "name": "python3"
  },
  "language_info": {
   "codemirror_mode": {
    "name": "ipython",
    "version": 3
   },
   "file_extension": ".py",
   "mimetype": "text/x-python",
   "name": "python",
   "nbconvert_exporter": "python",
   "pygments_lexer": "ipython3",
   "version": "3.12.5"
  }
 },
 "nbformat": 4,
 "nbformat_minor": 2
}
